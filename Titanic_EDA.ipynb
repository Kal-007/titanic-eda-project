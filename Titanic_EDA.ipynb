{
 "cells": [
  {
   "cell_type": "code",
   "execution_count": null,
   "id": "26af7f95-02ee-4c95-92d6-0734ee5dabfa",
   "metadata": {},
   "outputs": [],
   "source": []
  },
  {
   "cell_type": "code",
   "execution_count": 12,
   "id": "5733b535-6a44-41ea-b18a-bdaeb1672f71",
   "metadata": {},
   "outputs": [
    {
     "name": "stdout",
     "output_type": "stream",
     "text": [
      "<class 'pandas.core.frame.DataFrame'>\n",
      "RangeIndex: 891 entries, 0 to 890\n",
      "Data columns (total 16 columns):\n",
      " #   Column           Non-Null Count  Dtype  \n",
      "---  ------           --------------  -----  \n",
      " 0   PassengerId      891 non-null    int64  \n",
      " 1   Survived         891 non-null    int64  \n",
      " 2   Pclass           891 non-null    int64  \n",
      " 3   Name             891 non-null    object \n",
      " 4   Sex              891 non-null    object \n",
      " 5   Age              714 non-null    float64\n",
      " 6   SibSp            891 non-null    int64  \n",
      " 7   Parch            891 non-null    int64  \n",
      " 8   Ticket           891 non-null    object \n",
      " 9   Fare             891 non-null    float64\n",
      " 10  Cabin            204 non-null    object \n",
      " 11  Embarked         889 non-null    object \n",
      " 12  is_child         891 non-null    int64  \n",
      " 13  FamilySize       891 non-null    int64  \n",
      " 14  fare_per_person  891 non-null    float64\n",
      " 15  age_group        891 non-null    object \n",
      "dtypes: float64(3), int64(7), object(6)\n",
      "memory usage: 111.5+ KB\n"
     ]
    },
    {
     "data": {
      "text/plain": [
       "PassengerId          0\n",
       "Survived             0\n",
       "Pclass               0\n",
       "Name                 0\n",
       "Sex                  0\n",
       "Age                177\n",
       "SibSp                0\n",
       "Parch                0\n",
       "Ticket               0\n",
       "Fare                 0\n",
       "Cabin              687\n",
       "Embarked             2\n",
       "is_child             0\n",
       "FamilySize           0\n",
       "fare_per_person      0\n",
       "age_group            0\n",
       "dtype: int64"
      ]
     },
     "execution_count": 12,
     "metadata": {},
     "output_type": "execute_result"
    }
   ],
   "source": [
    "df.shape                  # Rows & columns\n",
    "df.columns                # Column names\n",
    "df.info()                 # Data types & nulls\n",
    "df.describe()             # Stats\n",
    "df.isnull().sum()         # Missing values count\n"
   ]
  },
  {
   "cell_type": "code",
   "execution_count": 13,
   "id": "2b68f15d-8e48-44e7-a4a0-7b88f55eac94",
   "metadata": {},
   "outputs": [],
   "source": [
    "df['Embarked'].value_counts() # See which port is most common\n",
    "df['Embarked'] = df['Embarked'].fillna(df['Embarked'].mode()[0])"
   ]
  },
  {
   "cell_type": "code",
   "execution_count": 14,
   "id": "c8410885-4c82-4915-ae4c-3b31336f1e0b",
   "metadata": {},
   "outputs": [],
   "source": [
    "df['Age'] = df['Age'].fillna(df['Age'].median())"
   ]
  },
  {
   "cell_type": "code",
   "execution_count": 15,
   "id": "23019556-882c-43e3-a172-3687cf34b8bd",
   "metadata": {},
   "outputs": [],
   "source": [
    "df.drop('Cabin', axis = 1, inplace = True)"
   ]
  },
  {
   "cell_type": "code",
   "execution_count": null,
   "id": "f7d9b412-87e8-466e-9f90-d2b3b64fb0db",
   "metadata": {},
   "outputs": [],
   "source": []
  },
  {
   "cell_type": "markdown",
   "id": "347fbdcb-1dc7-46b4-b244-38d2c1e56fc3",
   "metadata": {},
   "source": [
    "Survival Analisys"
   ]
  },
  {
   "cell_type": "code",
   "execution_count": 16,
   "id": "68c13b8b-6b38-4970-b255-4d369fa74e13",
   "metadata": {},
   "outputs": [
    {
     "data": {
      "text/plain": [
       "Sex\n",
       "female    0.742038\n",
       "male      0.188908\n",
       "Name: Survived, dtype: float64"
      ]
     },
     "execution_count": 16,
     "metadata": {},
     "output_type": "execute_result"
    }
   ],
   "source": [
    "df.groupby('Sex')['Survived'].mean()"
   ]
  },
  {
   "cell_type": "code",
   "execution_count": 17,
   "id": "094fa994-67f8-4bf7-b9b8-13ca669d6695",
   "metadata": {},
   "outputs": [
    {
     "data": {
      "text/plain": [
       "Pclass\n",
       "1    0.629630\n",
       "2    0.472826\n",
       "3    0.242363\n",
       "Name: Survived, dtype: float64"
      ]
     },
     "execution_count": 17,
     "metadata": {},
     "output_type": "execute_result"
    }
   ],
   "source": [
    "df.groupby('Pclass')['Survived'].mean()\n"
   ]
  },
  {
   "cell_type": "code",
   "execution_count": 18,
   "id": "bfaf762c-e3f4-49e8-b209-20655a95452c",
   "metadata": {},
   "outputs": [
    {
     "data": {
      "text/plain": [
       "Sex     Pclass\n",
       "female  1         0.968085\n",
       "        2         0.921053\n",
       "        3         0.500000\n",
       "male    1         0.368852\n",
       "        2         0.157407\n",
       "        3         0.135447\n",
       "Name: Survived, dtype: float64"
      ]
     },
     "execution_count": 18,
     "metadata": {},
     "output_type": "execute_result"
    }
   ],
   "source": [
    "df.groupby(['Sex', 'Pclass'])['Survived'].mean()"
   ]
  },
  {
   "cell_type": "markdown",
   "id": "99d1974f-c95e-45ff-9fe3-87c6e4e143a1",
   "metadata": {},
   "source": [
    "Visualisation:"
   ]
  },
  {
   "cell_type": "code",
   "execution_count": 19,
   "id": "6fa9a35b-e635-4aa7-8666-1f541559e45e",
   "metadata": {},
   "outputs": [
    {
     "name": "stderr",
     "output_type": "stream",
     "text": [
      "Matplotlib is building the font cache; this may take a moment.\n"
     ]
    },
    {
     "data": {
      "image/png": "[encoded data removed]",
      "text/plain": [
       "<Figure size 640x480 with 1 Axes>"
      ]
     },
     "metadata": {},
     "output_type": "display_data"
    }
   ],
   "source": [
    "import matplotlib.pyplot as plt\n",
    "\n",
    "# Count passengers per class\n",
    "class_counts = df['Pclass'].value_counts().sort_index()\n",
    "\n",
    "# Plot\n",
    "plt.bar(class_counts.index, class_counts.values)\n",
    "plt.title('Number of Passengers by Class')\n",
    "plt.xlabel('Passenger Class')\n",
    "plt.ylabel('Count')\n",
    "plt.show()\n"
   ]
  },
  {
   "cell_type": "code",
   "execution_count": 20,
   "id": "9eae75c1-8e37-41ab-9674-c1a682cd7407",
   "metadata": {},
   "outputs": [
    {
     "data": {
      "image/png": "[encoded data removed]",
      "text/plain": [
       "<Figure size 640x480 with 1 Axes>"
      ]
     },
     "metadata": {},
     "output_type": "display_data"
    }
   ],
   "source": [
    "# Count Passenger by \n",
    "\n",
    "sex_counts = df['Sex'].value_counts().sort_index()\n",
    "\n",
    "\n",
    "# plot\n",
    "plt.bar(sex_counts.index, sex_counts.values)\n",
    "plt.title('Number of Passengers by Sex')\n",
    "plt.xlabel('Sex')\n",
    "plt.ylabel('Count')\n",
    "plt.show()"
   ]
  },
  {
   "cell_type": "code",
   "execution_count": null,
   "id": "0b0a5ae9-a6a2-4322-991d-e38c25f5c6b7",
   "metadata": {},
   "outputs": [],
   "source": []
  },
  {
   "cell_type": "code",
   "execution_count": null,
   "id": "9d97158a-13a5-4444-a3e3-b6bb01fbce60",
   "metadata": {},
   "outputs": [],
   "source": []
  },
  {
   "cell_type": "markdown",
   "id": "6b6d1dab-62af-4061-974a-e16c31f63034",
   "metadata": {},
   "source": [
    "Final Touches"
   ]
  },
  {
   "cell_type": "code",
   "execution_count": 21,
   "id": "6b578a43-da9c-42d7-b0f6-2a7a84e4ce77",
   "metadata": {},
   "outputs": [],
   "source": [
    "df['FamilySize'] = df['SibSp'] + df['Parch'] + 1"
   ]
  },
  {
   "cell_type": "code",
   "execution_count": 22,
   "id": "e2fbc50f-431d-4d02-ab6b-4257b9fe2899",
   "metadata": {},
   "outputs": [],
   "source": [
    "df['Sex'] = df['Sex'].map({'male': 1, 'female': 0})\n"
   ]
  },
  {
   "cell_type": "code",
   "execution_count": 23,
   "id": "fee5664a-efbe-42d1-b8d2-eff25257c39d",
   "metadata": {},
   "outputs": [],
   "source": [
    "df['Embarked'] = df['Embarked'].map({'S': 0, 'C': 1, 'Q': 2})\n"
   ]
  },
  {
   "cell_type": "code",
   "execution_count": 24,
   "id": "46e24db1-8b34-44a3-a213-b0def586f2e8",
   "metadata": {},
   "outputs": [],
   "source": [
    "df.to_csv('titanic_cleaned.csv', index=False)\n"
   ]
  },
  {
   "cell_type": "code",
   "execution_count": 25,
   "id": "e663a628-a661-4c13-968f-5e85e7b6d06f",
   "metadata": {},
   "outputs": [],
   "source": [
    "import pandas as pd\n",
    "df = pd.read_csv('/Users/sankalpajoshi/Downloads/Data Science Project Files/Titanic-Dataset.csv')\n"
   ]
  },
  {
   "cell_type": "code",
   "execution_count": 26,
   "id": "bb9d0623-397d-4ef6-ab4e-329e9ebb729f",
   "metadata": {},
   "outputs": [],
   "source": [
    "import numpy as np\n",
    "\n",
    "# Create a new column with NumPy\n",
    "df['is_child'] = np.where(df['Age'] < 12, 1, 0)\n",
    "\n",
    "\n"
   ]
  },
  {
   "cell_type": "code",
   "execution_count": 27,
   "id": "05c9baa9-b7bb-4e0f-992e-13bd55120bca",
   "metadata": {},
   "outputs": [],
   "source": [
    "# If FamilySize doesn't exist yet, create it\n",
    "df['FamilySize'] = df['SibSp'] + df['Parch'] + 1\n",
    "\n",
    "# Avoid divide-by-zero using np.where\n",
    "df['fare_per_person'] = df['Fare'] / np.where(df['FamilySize'] == 0, 1, df['FamilySize'])\n"
   ]
  },
  {
   "cell_type": "code",
   "execution_count": 28,
   "id": "6fd8c7f1-2fd6-4a84-8569-9d517f3c7f15",
   "metadata": {},
   "outputs": [],
   "source": [
    "df['age_group'] = np.where(df['Age'] < 18, 'Child', 'Adult')\n"
   ]
  },
  {
   "cell_type": "code",
   "execution_count": 29,
   "id": "96cedaf8-a72d-4fa7-b485-9e4fc027e770",
   "metadata": {},
   "outputs": [
    {
     "name": "stdout",
     "output_type": "stream",
     "text": [
      "Survival Rate: 0.3838383838383838\n"
     ]
    }
   ],
   "source": [
    "survival_array = df['Survived'].to_numpy()\n",
    "print(\"Survival Rate:\", np.mean(survival_array))\n"
   ]
  },
  {
   "cell_type": "code",
   "execution_count": 30,
   "id": "5bb7cf72-8ae4-4fd5-a626-a68928ccc148",
   "metadata": {},
   "outputs": [
    {
     "name": "stdout",
     "output_type": "stream",
     "text": [
      "Age mean: nan\n",
      "Age std: nan\n"
     ]
    }
   ],
   "source": [
    "ages = df['Age'].to_numpy()\n",
    "print(\"Age mean:\", np.mean(ages))\n",
    "print(\"Age std:\", np.std(ages))\n"
   ]
  },
  {
   "cell_type": "code",
   "execution_count": null,
   "id": "4fa98a07-fa7d-443d-8200-c21cac223fc6",
   "metadata": {},
   "outputs": [],
   "source": []
  }
 ],
 "metadata": {
  "kernelspec": {
   "display_name": "Python [conda env:base] *",
   "language": "python",
   "name": "conda-base-py"
  },
  "language_info": {
   "codemirror_mode": {
    "name": "ipython",
    "version": 3
   },
   "file_extension": ".py",
   "mimetype": "text/x-python",
   "name": "python",
   "nbconvert_exporter": "python",
   "pygments_lexer": "ipython3",
   "version": "3.13.5"
  }
 },
 "nbformat": 4,
 "nbformat_minor": 5
}
